{
  "cells": [
    {
      "cell_type": "code",
      "execution_count": null,
      "id": "d23cd148",
      "metadata": {
        "id": "d23cd148"
      },
      "outputs": [],
      "source": [
        "import numpy as  np\n",
        "from scipy.stats import norm"
      ]
    },
    {
      "cell_type": "code",
      "execution_count": null,
      "id": "07051050",
      "metadata": {
        "id": "07051050"
      },
      "outputs": [],
      "source": [
        "# Functions that return d_1 , d_2 & call, put prices\n",
        "def d(sigma,S,K,r,t):\n",
        "    d1=1/(sigma * np.sqrt(t))* (np.log(S/K)+ (r + sigma**2/2) * t )\n",
        "    d2= d1 -sigma * np.sqrt(t)\n",
        "    return d1,d2\n",
        "\n",
        "def callprice(sigma, S, K , r, t, d1,d2):\n",
        "    C = norm.cdf(d1) * S - norm.cdf(d2) * K * np.exp(-r * t)\n",
        "    return C\n",
        "\n",
        "def putprice(sigma, S, K , r, t, d1,d2):\n",
        "    P = -norm.cdf(-d1) * S + norm.cdf(-d2) * K * np.exp(-r * t )\n",
        "    return P"
      ]
    },
    {
      "cell_type": "code",
      "execution_count": null,
      "id": "099efce7",
      "metadata": {
        "id": "099efce7"
      },
      "outputs": [],
      "source": [
        "def delta(d1, contract_type):\n",
        "    if contract_type == 'c':\n",
        "        return norm.cdf(d1)\n",
        "    elif contract_type =='p':\n",
        "        return -norm.cdf(-d1)"
      ]
    },
    {
      "cell_type": "code",
      "execution_count": null,
      "id": "15e310e2",
      "metadata": {
        "id": "15e310e2"
      },
      "outputs": [],
      "source": [
        "def gamma(d2,S,K,sigma,r,t):\n",
        "    return ( K * np.exp(-r * t)*(norm.pdf(d2)/(S**2 * sigma * np.sqrt(t) )))"
      ]
    },
    {
      "cell_type": "code",
      "execution_count": null,
      "id": "75e203f4",
      "metadata": {
        "id": "75e203f4"
      },
      "outputs": [],
      "source": [
        "def theta(d1,d2, S,K , sigma, r, t, contract_type):\n",
        "    if contract_type=='c':\n",
        "        theta = -S * sigma * norm.pdf(d1)/(2 * np.sqrt(t)) - r * K* np.exp(-r * t) * norm.cdf(d2)\n",
        "    elif contract_type == 'p':\n",
        "        theta = -S * sigma * norm.pdf(-d1) / (2 * np.sqrt(t)) + r * K * np.exp(-r * t) * norm.cdf(-d2)\n",
        "    return theta"
      ]
    },
    {
      "cell_type": "code",
      "execution_count": null,
      "id": "ff8c08b6",
      "metadata": {
        "id": "ff8c08b6",
        "outputId": "ddb2e771-4221-4bdd-f91c-0a09697fe477"
      },
      "outputs": [
        {
          "name": "stdout",
          "output_type": "stream",
          "text": [
            "Spot price =  100\n",
            "Srike Price=  105\n",
            "Risk-Free Rate= 0.01\n",
            "Time to Expiration= 0.011904761904761904\n",
            "Implied Volatality= 0.3\n"
          ]
        }
      ],
      "source": [
        "#Enter Values for Spot Price , Strike , Risk-Free Rate, Time to Expiration & Implied Volatility\n",
        "S = 100 ; print('Spot price = ', S)\n",
        "K = 105 ; print('Srike Price= ', K)\n",
        "r = 0.01; print('Risk-Free Rate=', r)\n",
        "t = 3/252; print('Time to Expiration=',t)\n",
        "sigma = 0.30 ; print('Implied Volatility=',sigma)"
      ]
    },
    {
      "cell_type": "code",
      "execution_count": null,
      "id": "dad3dd34",
      "metadata": {
        "id": "dad3dd34",
        "outputId": "0ac67243-8168-4100-fe53-952632eb31dc"
      },
      "outputs": [
        {
          "name": "stdout",
          "output_type": "stream",
          "text": [
            "d1= -1.4705608298999981\n",
            "d2= -1.503293513435397\n"
          ]
        }
      ],
      "source": [
        "d1, d2 = d(sigma,S,K,r,t)\n",
        "print('d1=',d1)\n",
        "print('d2=',d2)"
      ]
    },
    {
      "cell_type": "code",
      "execution_count": null,
      "id": "89b6adc5",
      "metadata": {
        "id": "89b6adc5",
        "outputId": "2e4ff740-7d59-4cc7-ba51-744cc272b270"
      },
      "outputs": [
        {
          "name": "stdout",
          "output_type": "stream",
          "text": [
            "Call Delta:  0.0707049617950366\n",
            "Put Delta:  -0.9292950382049634\n"
          ]
        }
      ],
      "source": [
        "deltacall = delta(d1,'c')\n",
        "deltaput = delta(d1,'p')\n",
        "print(\"Call Delta: \", deltacall)\n",
        "print(\"Put Delta: \", deltaput)"
      ]
    },
    {
      "cell_type": "code",
      "execution_count": null,
      "id": "dbfe774b",
      "metadata": {
        "id": "dbfe774b",
        "outputId": "b2bd6f72-1212-4968-e752-bbc5408f3ac2"
      },
      "outputs": [
        {
          "name": "stdout",
          "output_type": "stream",
          "text": [
            "Gamma:  0.041336801733300996\n"
          ]
        }
      ],
      "source": [
        "print('Gamma: ' ,gamma(d2, S,K,sigma, r,t))"
      ]
    },
    {
      "cell_type": "code",
      "execution_count": null,
      "id": "ad655922",
      "metadata": {
        "id": "ad655922",
        "outputId": "990be056-6a47-42a1-c635-4842cf455246"
      },
      "outputs": [
        {
          "name": "stdout",
          "output_type": "stream",
          "text": [
            "Theta (Call Side) :  -5.115411850168194\n",
            "Theta (Put Side) :  -4.827774861828419\n"
          ]
        }
      ],
      "source": [
        "print('Theta (Call Side) : ', theta(d1,d2,S,K,sigma, r , t, 'c') / 365 *100)\n",
        "print('Theta (Put Side) : ',theta(d1,d2,S,K,sigma, r , t, 'p')  / 365 *100)\n"
      ]
    },
    {
      "cell_type": "code",
      "execution_count": null,
      "id": "05772d1e",
      "metadata": {
        "id": "05772d1e"
      },
      "outputs": [],
      "source": []
    }
  ],
  "metadata": {
    "kernelspec": {
      "display_name": "Python 3 (ipykernel)",
      "language": "python",
      "name": "python3"
    },
    "language_info": {
      "codemirror_mode": {
        "name": "ipython",
        "version": 3
      },
      "file_extension": ".py",
      "mimetype": "text/x-python",
      "name": "python",
      "nbconvert_exporter": "python",
      "pygments_lexer": "ipython3",
      "version": "3.9.13"
    },
    "colab": {
      "provenance": []
    }
  },
  "nbformat": 4,
  "nbformat_minor": 5
}